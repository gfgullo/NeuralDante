{
  "cells": [
    {
      "cell_type": "markdown",
      "metadata": {
        "id": "view-in-github",
        "colab_type": "text"
      },
      "source": [
        "<a href=\"https://colab.research.google.com/github/gfgullo/NeuralDante/blob/main/NeuralDante.ipynb\" target=\"_parent\"><img src=\"https://colab.research.google.com/assets/colab-badge.svg\" alt=\"Open In Colab\"/></a>"
      ]
    },
    {
      "cell_type": "markdown",
      "metadata": {
        "id": "2K42PPOmX97L"
      },
      "source": [
        "# Neural Dante"
      ]
    },
    {
      "cell_type": "markdown",
      "metadata": {
        "id": "g35auZ-agq6z"
      },
      "source": [
        "## Procuriamo il libro"
      ]
    },
    {
      "cell_type": "code",
      "execution_count": null,
      "metadata": {
        "colab": {
          "base_uri": "https://localhost:8080/"
        },
        "id": "_lCJ1wz9X7qw",
        "outputId": "cd27cf33-a597-4ae6-8d06-f8d7607c5cfa"
      },
      "outputs": [
        {
          "name": "stdout",
          "output_type": "stream",
          "text": [
            "--2023-05-06 16:47:29--  https://dmf.unicatt.it/~della/pythoncourse18/commedia.txt\n",
            "Resolving dmf.unicatt.it (dmf.unicatt.it)... 185.11.152.34\n",
            "Connecting to dmf.unicatt.it (dmf.unicatt.it)|185.11.152.34|:443... connected.\n",
            "HTTP request sent, awaiting response... 200 OK\n",
            "Length: 557962 (545K) [text/plain]\n",
            "Saving to: ‘commedia.txt’\n",
            "\n",
            "commedia.txt        100%[===================>] 544.88K   478KB/s    in 1.1s    \n",
            "\n",
            "2023-05-06 16:47:32 (478 KB/s) - ‘commedia.txt’ saved [557962/557962]\n",
            "\n"
          ]
        }
      ],
      "source": [
        "!wget https://dmf.unicatt.it/~della/pythoncourse18/commedia.txt"
      ]
    },
    {
      "cell_type": "markdown",
      "metadata": {
        "id": "2NZoIyQ7guMV"
      },
      "source": [
        "## Importiamo i moduli"
      ]
    },
    {
      "cell_type": "code",
      "execution_count": null,
      "metadata": {
        "id": "8ALHgXmWctqs"
      },
      "outputs": [],
      "source": [
        "import re\n",
        "import numpy as np\n",
        "from tensorflow.keras.utils import to_categorical\n",
        "from tensorflow.keras.models import Sequential\n",
        "from tensorflow.keras.layers import LSTM, Dense, Dropout, Embedding\n",
        "from tensorflow.keras.callbacks import LambdaCallback\n",
        "from random import randint"
      ]
    },
    {
      "cell_type": "markdown",
      "metadata": {
        "id": "sH9v-D41gwyn"
      },
      "source": [
        "## Prepariamo il testo"
      ]
    },
    {
      "cell_type": "code",
      "execution_count": null,
      "metadata": {
        "colab": {
          "base_uri": "https://localhost:8080/",
          "height": 36
        },
        "id": "FyB8u25MaujC",
        "outputId": "95a9dac9-3086-4ad2-8a26-e14ddaabc2ad"
      },
      "outputs": [
        {
          "data": {
            "application/vnd.google.colaboratory.intrinsic+json": {
              "type": "string"
            },
            "text/plain": [
              "'LA DIVINA COMMEDIA\\ndi Dante Alighieri\\nINFERNO\\n\\n\\n\\nI'"
            ]
          },
          "execution_count": 35,
          "metadata": {},
          "output_type": "execute_result"
        }
      ],
      "source": [
        "f = open(\"commedia.txt\",\"r\")\n",
        "text = f.read()\n",
        "text[:50]"
      ]
    },
    {
      "cell_type": "code",
      "execution_count": null,
      "metadata": {
        "id": "v5VZjNm6eOSF"
      },
      "outputs": [],
      "source": [
        "def remove_title(text):\n",
        "\n",
        "  pattern = r'LA DIVINA COMMEDIA.*?\\n\\n'\n",
        "  text = re.sub(pattern,'',text, flags=re.DOTALL)\n",
        "\n",
        "  for book in [\"Inferno\",\"Purgatorio\",\"Paradiso\"]:\n",
        "    pattern = r''+book+'.*?\\n'\n",
        "    text = re.sub(pattern,'',text, flags=re.DOTALL)\n",
        "\n",
        "  return text\n",
        "\n",
        "\n",
        "def clean_text(text):\n",
        "\n",
        "  text = remove_title(text)\n",
        "  text = text.lower()\n",
        "  text = text.replace(\"\\n\",\"\")\n",
        "  text = text.replace(\"'\",\" \")\n",
        "  text = re.sub(r'[^\\w\\s]|_', '', text)\n",
        "  text = re.sub(r' +', ' ', text)\n",
        "  text = text.strip()\n",
        "  \n",
        "  return text\n",
        "\n",
        "\n",
        "text = clean_text(text)"
      ]
    },
    {
      "cell_type": "markdown",
      "metadata": {
        "id": "fJPtQYVe9o4M"
      },
      "source": [
        "## Word-level"
      ]
    },
    {
      "cell_type": "code",
      "execution_count": null,
      "metadata": {
        "id": "SrR_pBwc_PUu"
      },
      "outputs": [],
      "source": [
        "MAXLEN = 10"
      ]
    },
    {
      "cell_type": "markdown",
      "metadata": {
        "id": "T3amROvQg3oY"
      },
      "source": [
        "### Codifichiamo il testo"
      ]
    },
    {
      "cell_type": "code",
      "execution_count": null,
      "metadata": {
        "id": "-2BiphddfVFv"
      },
      "outputs": [],
      "source": [
        "vocab = sorted(list(set(text.split(\" \"))))"
      ]
    },
    {
      "cell_type": "code",
      "execution_count": null,
      "metadata": {
        "id": "blBVfVf4hI9x"
      },
      "outputs": [],
      "source": [
        "vocab_size = len(vocab)"
      ]
    },
    {
      "cell_type": "code",
      "execution_count": null,
      "metadata": {
        "id": "ocxWmTshhlSb"
      },
      "outputs": [],
      "source": [
        "word_index = dict([word, pos] for pos, word in enumerate(vocab))"
      ]
    },
    {
      "cell_type": "code",
      "execution_count": null,
      "metadata": {
        "id": "rbVMK2n2ixgU"
      },
      "outputs": [],
      "source": [
        "tokens = [word_index[word] for word in text.split()]"
      ]
    },
    {
      "cell_type": "code",
      "execution_count": null,
      "metadata": {
        "id": "iG6fmpgvkvgl"
      },
      "outputs": [],
      "source": [
        "sentences = []\n",
        "next_words = []\n",
        "\n",
        "for i in range(0, len(tokens)-MAXLEN):\n",
        "\n",
        "  if(i+MAXLEN>len(tokens)):\n",
        "    break\n",
        "\n",
        "  sentence = tokens[i:i+MAXLEN]\n",
        "  next_word = tokens[i+MAXLEN]\n",
        "\n",
        "  sentences.append(sentence)\n",
        "  next_words.append(next_word)"
      ]
    },
    {
      "cell_type": "markdown",
      "metadata": {
        "id": "rW01YiaEpKeG"
      },
      "source": [
        "### Processiamo i dati"
      ]
    },
    {
      "cell_type": "code",
      "execution_count": null,
      "metadata": {
        "colab": {
          "background_save": true
        },
        "id": "EwMQJ3gNnvt_"
      },
      "outputs": [],
      "source": [
        "X = np.array(sentences)\n",
        "y = np.array(next_words)"
      ]
    },
    {
      "cell_type": "code",
      "execution_count": null,
      "metadata": {
        "colab": {
          "background_save": true,
          "base_uri": "https://localhost:8080/"
        },
        "id": "BWF4x_XMoaJ3",
        "outputId": "b5ee4064-f8cf-4125-b4a3-d6ff386659fb"
      },
      "outputs": [
        {
          "data": {
            "text/plain": [
              "(92239, 10)"
            ]
          },
          "execution_count": 36,
          "metadata": {},
          "output_type": "execute_result"
        }
      ],
      "source": [
        "X.shape"
      ]
    },
    {
      "cell_type": "code",
      "execution_count": null,
      "metadata": {
        "colab": {
          "background_save": true
        },
        "id": "8P4CgZZuogvF"
      },
      "outputs": [],
      "source": [
        "#X = X/(vocab_size-1)"
      ]
    },
    {
      "cell_type": "code",
      "execution_count": null,
      "metadata": {
        "colab": {
          "background_save": true
        },
        "id": "Rh1KJ1Muv2dG"
      },
      "outputs": [],
      "source": [
        "#X = X.reshape(X.shape[0], X.shape[1], 1)"
      ]
    },
    {
      "cell_type": "code",
      "execution_count": null,
      "metadata": {
        "colab": {
          "background_save": true
        },
        "id": "DVpiDfJD2rb0"
      },
      "outputs": [],
      "source": [
        "y = to_categorical(y)"
      ]
    },
    {
      "cell_type": "markdown",
      "metadata": {
        "id": "OBDISccHp5FY"
      },
      "source": [
        "### Creiamo la rete neurale"
      ]
    },
    {
      "cell_type": "code",
      "execution_count": null,
      "metadata": {
        "colab": {
          "background_save": true
        },
        "id": "357uRzMGpyD6"
      },
      "outputs": [],
      "source": [
        "\"\"\"\n",
        "model = Sequential()\n",
        "model.add(Embedding(vocab_size, MAXLEN, input_length=MAXLEN))\n",
        "model.add(LSTM(50, return_sequences=True))\n",
        "model.add(LSTM(50))\n",
        "model.add(Dense(50, activation=\"relu\"))\n",
        "model.add(Dense(vocab_size, activation=\"softmax\"))\n",
        "\"\"\"\n",
        "\n",
        "model = Sequential()\n",
        "model.add(LSTM(50))\n",
        "model.add(Dense(vocab_size, activation=\"softmax\"))\n"
      ]
    },
    {
      "cell_type": "code",
      "execution_count": null,
      "metadata": {
        "colab": {
          "background_save": true
        },
        "id": "nSKhZN5Orhdb"
      },
      "outputs": [],
      "source": [
        "def generate(seed=None, generate_length=25):\n",
        "\n",
        "  output = \"\"\n",
        "\n",
        "  if seed is None:\n",
        "    words = text.split()\n",
        "    start_index = randint(0, len(words)-MAXLEN)\n",
        "    input_text = text.split()[start_index:start_index+MAXLEN]\n",
        "  else:\n",
        "    input_text = clean_text(seed)\n",
        "    input_text = input_text.split()\n",
        "\n",
        "  for i in range(generate_length):\n",
        "    \n",
        "    tokens = [word_index[word] for word in input_text]\n",
        "    tokens = np.array(tokens).reshape(MAXLEN,1)\n",
        "    #tokens=tokens/(vocab_size-1)\n",
        "\n",
        "    pred_token = np.argmax(model.predict([tokens], verbose=False), axis=1)[0]\n",
        "\n",
        "    pred_word = vocab[pred_token]\n",
        "\n",
        "    input_text = input_text[1:]\n",
        "    input_text.append(pred_word)\n",
        "    output+=pred_word+\" \"\n",
        "\n",
        "  return output"
      ]
    },
    {
      "cell_type": "code",
      "execution_count": null,
      "metadata": {
        "colab": {
          "background_save": true
        },
        "id": "M4V7EiQxvVV_"
      },
      "outputs": [],
      "source": [
        "model.compile(loss=\"categorical_crossentropy\", optimizer=\"adam\", metrics=\"accuracy\")"
      ]
    },
    {
      "cell_type": "code",
      "execution_count": null,
      "metadata": {
        "colab": {
          "background_save": true,
          "base_uri": "https://localhost:8080/",
          "height": 313
        },
        "id": "egZNI1YOwQ7Q",
        "outputId": "7b07ff7b-a9b3-4eb8-e041-8088e71905fc"
      },
      "outputs": [
        {
          "ename": "ValueError",
          "evalue": "ignored",
          "output_type": "error",
          "traceback": [
            "\u001b[0;31m---------------------------------------------------------------------------\u001b[0m",
            "\u001b[0;31mValueError\u001b[0m                                Traceback (most recent call last)",
            "\u001b[0;32m<ipython-input-43-5f15418b3570>\u001b[0m in \u001b[0;36m<cell line: 1>\u001b[0;34m()\u001b[0m\n\u001b[0;32m----> 1\u001b[0;31m \u001b[0mmodel\u001b[0m\u001b[0;34m.\u001b[0m\u001b[0msummary\u001b[0m\u001b[0;34m(\u001b[0m\u001b[0;34m)\u001b[0m\u001b[0;34m\u001b[0m\u001b[0;34m\u001b[0m\u001b[0m\n\u001b[0m",
            "\u001b[0;32m/usr/local/lib/python3.10/dist-packages/keras/engine/training.py\u001b[0m in \u001b[0;36msummary\u001b[0;34m(self, line_length, positions, print_fn, expand_nested, show_trainable, layer_range)\u001b[0m\n\u001b[1;32m   3227\u001b[0m         \"\"\"\n\u001b[1;32m   3228\u001b[0m         \u001b[0;32mif\u001b[0m \u001b[0;32mnot\u001b[0m \u001b[0mself\u001b[0m\u001b[0;34m.\u001b[0m\u001b[0mbuilt\u001b[0m\u001b[0;34m:\u001b[0m\u001b[0;34m\u001b[0m\u001b[0;34m\u001b[0m\u001b[0m\n\u001b[0;32m-> 3229\u001b[0;31m             raise ValueError(\n\u001b[0m\u001b[1;32m   3230\u001b[0m                 \u001b[0;34m\"This model has not yet been built. \"\u001b[0m\u001b[0;34m\u001b[0m\u001b[0;34m\u001b[0m\u001b[0m\n\u001b[1;32m   3231\u001b[0m                 \u001b[0;34m\"Build the model first by calling `build()` or by calling \"\u001b[0m\u001b[0;34m\u001b[0m\u001b[0;34m\u001b[0m\u001b[0m\n",
            "\u001b[0;31mValueError\u001b[0m: This model has not yet been built. Build the model first by calling `build()` or by calling the model on a batch of data."
          ]
        }
      ],
      "source": [
        "model.summary()"
      ]
    },
    {
      "cell_type": "code",
      "execution_count": null,
      "metadata": {
        "id": "EbZhDX5ExiWA"
      },
      "outputs": [],
      "source": [
        "def generate_on_epoch(epoch, _):\n",
        "  output = generate()\n",
        "  print(\"\\nDante dice: \"+output)"
      ]
    },
    {
      "cell_type": "code",
      "execution_count": null,
      "metadata": {
        "id": "4pidlfEgwTZi"
      },
      "outputs": [],
      "source": [
        "epoch_callback = LambdaCallback(on_epoch_end=generate_on_epoch)\n",
        "model.fit(X, y, batch_size=128, epochs=10, callbacks=[epoch_callback])"
      ]
    },
    {
      "cell_type": "markdown",
      "metadata": {
        "id": "dBJgg90m90Q5"
      },
      "source": [
        "## Character-level"
      ]
    },
    {
      "cell_type": "code",
      "execution_count": null,
      "metadata": {
        "id": "xl_5lSg-_QZc"
      },
      "outputs": [],
      "source": [
        "MAXLEN = 50"
      ]
    },
    {
      "cell_type": "markdown",
      "metadata": {
        "id": "XaCRgMkf94mz"
      },
      "source": [
        "### Codifichiamo il testo"
      ]
    },
    {
      "cell_type": "code",
      "execution_count": null,
      "metadata": {
        "id": "wCFUO2TC94Df"
      },
      "outputs": [],
      "source": [
        "vocab = list(set(text))"
      ]
    },
    {
      "cell_type": "code",
      "execution_count": null,
      "metadata": {
        "id": "6Ap8Asyhw0uT"
      },
      "outputs": [],
      "source": [
        "vocab_size = len(vocab)"
      ]
    },
    {
      "cell_type": "code",
      "execution_count": null,
      "metadata": {
        "id": "_y5PQ6VF-I_c"
      },
      "outputs": [],
      "source": [
        "char_index = dict((c,i) for i,c in enumerate(vocab))"
      ]
    },
    {
      "cell_type": "code",
      "execution_count": null,
      "metadata": {
        "colab": {
          "base_uri": "https://localhost:8080/"
        },
        "id": "bKj7iCnO-aBA",
        "outputId": "2842eb98-6db1-4430-b756-db4697bdb598"
      },
      "outputs": [
        {
          "data": {
            "text/plain": [
              "[12, 19, 2, 31, 9, 19, 18, 18, 16, 31]"
            ]
          },
          "execution_count": 61,
          "metadata": {},
          "output_type": "execute_result"
        }
      ],
      "source": [
        "tokens = [char_index[c] for c in text]\n",
        "tokens[:10]"
      ]
    },
    {
      "cell_type": "code",
      "execution_count": null,
      "metadata": {
        "id": "eW4OXmCn-56_"
      },
      "outputs": [],
      "source": [
        "sentences = []\n",
        "next_chars = []\n",
        "\n",
        "for i in range(0, len(tokens)-MAXLEN):\n",
        "\n",
        "  if(i+MAXLEN>len(tokens)):\n",
        "    break\n",
        "\n",
        "  sentence = tokens[i:i+MAXLEN]\n",
        "  next_char = tokens[i+MAXLEN]\n",
        "\n",
        "  sentences.append(sentence)\n",
        "  next_chars.append(next_char)"
      ]
    },
    {
      "cell_type": "markdown",
      "metadata": {
        "id": "6ch7G860_y9-"
      },
      "source": [
        "### Preprocessiamo i dati"
      ]
    },
    {
      "cell_type": "code",
      "execution_count": null,
      "metadata": {
        "id": "oWZczsPB_rqA"
      },
      "outputs": [],
      "source": [
        "X = np.array(sentences)\n",
        "y = np.array(next_chars)"
      ]
    },
    {
      "cell_type": "code",
      "execution_count": null,
      "metadata": {
        "id": "IEdEaapcBr6k"
      },
      "outputs": [],
      "source": [
        "X = X.reshape(X.shape[0], X.shape[1], 1)"
      ]
    },
    {
      "cell_type": "code",
      "execution_count": null,
      "metadata": {
        "id": "mp8Q-9oTAYaJ"
      },
      "outputs": [],
      "source": [
        "y = to_categorical(y)"
      ]
    },
    {
      "cell_type": "markdown",
      "metadata": {
        "id": "dgOVuiU0AnFb"
      },
      "source": [
        "### Creiamo la rete **neurale**"
      ]
    },
    {
      "cell_type": "code",
      "execution_count": null,
      "metadata": {
        "id": "dRVrV70nAgBm"
      },
      "outputs": [],
      "source": [
        "model = Sequential()\n",
        "model.add(LSTM(50, input_shape=(X.shape[1], X.shape[2])))\n",
        "model.add(Dense(vocab_size, activation=\"softmax\"))"
      ]
    },
    {
      "cell_type": "code",
      "execution_count": null,
      "metadata": {
        "colab": {
          "base_uri": "https://localhost:8080/",
          "height": 36
        },
        "id": "yhsRO8ZeAwaV",
        "outputId": "a07a7c8e-55d7-486c-ac6f-bc327dc4ee45"
      },
      "outputs": [
        {
          "data": {
            "application/vnd.google.colaboratory.intrinsic+json": {
              "type": "string"
            },
            "text/plain": [
              "'eeeeeeaeeeeeeeee eeeeaeae eaeeeaeeeeeeeeeeeeeaeeeeeeeeeeeeeeeeeeeeeeeeeeeeeeeeeeeeeeeeeeeeeeeeeeeeee'"
            ]
          },
          "execution_count": 89,
          "metadata": {},
          "output_type": "execute_result"
        }
      ],
      "source": [
        "def generate(seed=None, generate_length=100):\n",
        "\n",
        "  output = \"\"\n",
        "\n",
        "  if seed is None:\n",
        "    start_index = randint(0, len(text)-MAXLEN)\n",
        "    input_text = text[start_index:start_index+MAXLEN]\n",
        "  else:\n",
        "    input_text = clean_text(seed)\n",
        "    input_text = input_text.split()\n",
        "\n",
        "  for i in range(generate_length):\n",
        "    \n",
        "    tokens = [char_index[c] for c in input_text]\n",
        "    tokens = np.array(tokens).reshape(MAXLEN,1)\n",
        "    #tokens=tokens/(vocab_size-1)\n",
        "\n",
        "    pred_token = np.argmax(model.predict([tokens], verbose=False), axis=1)[0]\n",
        "    pred_char = vocab[pred_token]\n",
        "\n",
        "    input_text = input_text[1:]+pred_char\n",
        "    output+=pred_char\n",
        "\n",
        "  return output\n",
        "\n",
        "generate()"
      ]
    },
    {
      "cell_type": "code",
      "execution_count": null,
      "metadata": {
        "id": "ADaOkJGGBMBo"
      },
      "outputs": [],
      "source": [
        "model.compile(loss=\"categorical_crossentropy\", optimizer=\"adam\", metrics=\"accuracy\")"
      ]
    },
    {
      "cell_type": "code",
      "execution_count": null,
      "metadata": {
        "colab": {
          "background_save": true,
          "base_uri": "https://localhost:8080/"
        },
        "id": "6nQ6E5diBMqL",
        "outputId": "83ff08b1-8725-49dc-e38b-d24671ae3e88"
      },
      "outputs": [
        {
          "name": "stdout",
          "output_type": "stream",
          "text": [
            "Epoch 1/100\n",
            "3860/3868 [============================>.] - ETA: 0s - loss: 2.0744 - accuracy: 0.3592\n",
            "Dante dice: eellleeillelle lleellelelllliiillill liileellliliilleeelleeeleelleelleeleleeeeeeeeeeeeleeeelleeeeeee\n",
            "3868/3868 [==============================] - 24s 6ms/step - loss: 2.0744 - accuracy: 0.3592\n",
            "Epoch 2/100\n",
            "3858/3868 [============================>.] - ETA: 0s - loss: 2.0668 - accuracy: 0.3616\n",
            "Dante dice: ellelllell lleelllelleelelileel leeeeeeelieleelileleeleeeleeleelleeeleelleleeellelellllllleelelleeel\n",
            "3868/3868 [==============================] - 24s 6ms/step - loss: 2.0668 - accuracy: 0.3616\n",
            "Epoch 3/100\n",
            "3858/3868 [============================>.] - ETA: 0s - loss: 2.0594 - accuracy: 0.3635\n",
            "Dante dice: luueilllllelliu llilllllllileilleiil lluliluleelulellleeeeeeleeelleeeeeeeeeeeeleeeleeeleeleeelellele\n",
            "3868/3868 [==============================] - 24s 6ms/step - loss: 2.0595 - accuracy: 0.3635\n",
            "Epoch 4/100\n",
            "3866/3868 [============================>.] - ETA: 0s - loss: 2.0529 - accuracy: 0.3649\n",
            "Dante dice: llilliuiell lillllulilielliliiliiiliilu llielliiliiieiieleliilieiiiilieieliieieeieeeieeilliieliieeie\n",
            "3868/3868 [==============================] - 24s 6ms/step - loss: 2.0529 - accuracy: 0.3649\n",
            "Epoch 5/100\n",
            "3859/3868 [============================>.] - ETA: 0s - loss: 2.0472 - accuracy: 0.3668\n",
            "Dante dice: iuiiliiuelullelelllllluiiliellililliuilllluullllueeleeeeelleleeleleeeeeeleeeeleeeeeeeeleeeeelleeeell\n",
            "3868/3868 [==============================] - 24s 6ms/step - loss: 2.0473 - accuracy: 0.3667\n",
            "Epoch 6/100\n",
            "3862/3868 [============================>.] - ETA: 0s - loss: 2.0418 - accuracy: 0.3683\n",
            "Dante dice: elilu leelellluulllelillelllellluiilllilelllieulelleeellelleleeelleeeleeeeleeeleeeleeeeeeeleeeellele\n",
            "3868/3868 [==============================] - 24s 6ms/step - loss: 2.0418 - accuracy: 0.3684\n",
            "Epoch 7/100\n",
            "3868/3868 [==============================] - ETA: 0s - loss: 2.0365 - accuracy: 0.3697\n",
            "Dante dice: lleullieiillull llellliiillilieiuulillliiulliuulleeelleeeleeeeleeleeleeeeeeeeeeelelleeeeeeeleeelleel\n",
            "3868/3868 [==============================] - 24s 6ms/step - loss: 2.0365 - accuracy: 0.3697\n",
            "Epoch 8/100\n",
            "3861/3868 [============================>.] - ETA: 0s - loss: 2.0316 - accuracy: 0.3709\n",
            "Dante dice: ulueul uuuu eululuuuleelueiielluuiulluuiulluuiullllelllellllllllelelllellelleeleelleleelleleelleleee\n",
            "3868/3868 [==============================] - 24s 6ms/step - loss: 2.0317 - accuracy: 0.3708\n",
            "Epoch 9/100\n",
            "3864/3868 [============================>.] - ETA: 0s - loss: 2.0271 - accuracy: 0.3721\n",
            "Dante dice: iulieueeliel eluielelulielieueuuluuleulielleelluuieleeuluueeuelueleueueleeueeulullelleuleeueeuueelle\n",
            "3868/3868 [==============================] - 24s 6ms/step - loss: 2.0271 - accuracy: 0.3721\n",
            "Epoch 10/100\n",
            "3865/3868 [============================>.] - ETA: 0s - loss: 2.0229 - accuracy: 0.3734\n",
            "Dante dice: el llelllleiiiuleluelleeileileeeleelllleellleleeuuleleeleeeeleeelelelleelleeleelllelleeeelleeelellll\n",
            "3868/3868 [==============================] - 24s 6ms/step - loss: 2.0229 - accuracy: 0.3734\n",
            "Epoch 11/100\n",
            "3859/3868 [============================>.] - ETA: 0s - loss: 2.0195 - accuracy: 0.3745\n",
            "Dante dice: leelelllellleeeellllllleleeelelellllleelleeleellllelleleeeleeelllleeeeeeelellleleleeeeelleellelleeee\n",
            "3868/3868 [==============================] - 24s 6ms/step - loss: 2.0194 - accuracy: 0.3745\n",
            "Epoch 12/100\n",
            "3858/3868 [============================>.] - ETA: 0s - loss: 2.0152 - accuracy: 0.3755\n",
            "Dante dice: llieeeelilllleeeeeilelllilillleiliell el lellleeieeeelllleeeeeellllleeleeeeeeeeeleeeleelleleleeellel\n",
            "3868/3868 [==============================] - 24s 6ms/step - loss: 2.0152 - accuracy: 0.3755\n",
            "Epoch 13/100\n",
            "3864/3868 [============================>.] - ETA: 0s - loss: 2.0120 - accuracy: 0.3759\n",
            "Dante dice: lellell elillllliiilelillileelueililiuileeleul elieleeleelleeeeeeeeeeeleeeeeellelleeeeeleellellellee\n",
            "3868/3868 [==============================] - 24s 6ms/step - loss: 2.0120 - accuracy: 0.3759\n",
            "Epoch 14/100\n",
            "3866/3868 [============================>.] - ETA: 0s - loss: 2.0088 - accuracy: 0.3770\n",
            "Dante dice: llleeellellleliieleleeeelliellelil ellillleleilleeeeellleeleeeleeelelelllleeeleeleeelleeeeeeleleeell\n",
            "3868/3868 [==============================] - 26s 7ms/step - loss: 2.0088 - accuracy: 0.3770\n",
            "Epoch 15/100\n",
            "3864/3868 [============================>.] - ETA: 0s - loss: 2.0055 - accuracy: 0.3772\n",
            "Dante dice: leleliel llillellellleeilliellllleelllleeelelleleeeleleeleleeeeeleeleeelleeeeleeeeelleeeellleleelell\n",
            "3868/3868 [==============================] - 26s 7ms/step - loss: 2.0054 - accuracy: 0.3772\n",
            "Epoch 16/100\n",
            "3861/3868 [============================>.] - ETA: 0s - loss: 2.0022 - accuracy: 0.3782\n",
            "Dante dice: elllleelellleiiiliieelllleelelelelllliilellll elllleeeelleleeeleeeeeelleeeelleleleleeeeeeeleeeelleee\n",
            "3868/3868 [==============================] - 25s 6ms/step - loss: 2.0022 - accuracy: 0.3781\n",
            "Epoch 17/100\n",
            "3860/3868 [============================>.] - ETA: 0s - loss: 1.9997 - accuracy: 0.3793\n",
            "Dante dice: llleellileel elieeeeelelllilleel lellllelleelllll eeelleeeellelleellllleleeeeeelleleleeeeleelleeeeel\n",
            "3868/3868 [==============================] - 24s 6ms/step - loss: 1.9997 - accuracy: 0.3793\n",
            "Epoch 18/100\n",
            "3864/3868 [============================>.] - ETA: 0s - loss: 1.9967 - accuracy: 0.3800\n",
            "Dante dice: iiilellelliiilellllllll eiellileelilelellll eeie ieeeeleeleeeeeeleeeeeeeelleleeeelleeeleleeeelllelle\n",
            "3868/3868 [==============================] - 24s 6ms/step - loss: 1.9968 - accuracy: 0.3800\n",
            "Epoch 19/100\n",
            "3859/3868 [============================>.] - ETA: 0s - loss: 1.9940 - accuracy: 0.3810\n",
            "Dante dice: llellleelil olliiiiliololil illlillilliliololiliileeleeelleoelleeooooeoleleoeloeeeoeeoeeoeoleleoeooe\n",
            "3868/3868 [==============================] - 24s 6ms/step - loss: 1.9939 - accuracy: 0.3810\n",
            "Epoch 20/100\n",
            "3860/3868 [============================>.] - ETA: 0s - loss: 1.9912 - accuracy: 0.3812\n",
            "Dante dice: leeilllllleelleeelieleleeeleelelllelellelleelleeelelleeeeeeelleellleelelelllelleleeeleleeleelleellle\n",
            "3868/3868 [==============================] - 24s 6ms/step - loss: 1.9913 - accuracy: 0.3812\n",
            "Epoch 21/100\n",
            "3859/3868 [============================>.] - ETA: 0s - loss: 1.9886 - accuracy: 0.3820\n",
            "Dante dice: lelleeelell lllllelele elllelleleeelllleleleelllleeleellleleeleeeeelelellleeeleelellleeeelelelleeeel\n",
            "3868/3868 [==============================] - 24s 6ms/step - loss: 1.9887 - accuracy: 0.3819\n",
            "Epoch 22/100\n",
            "3858/3868 [============================>.] - ETA: 0s - loss: 1.9867 - accuracy: 0.3826\n",
            "Dante dice: eeellllllllleleellleleeellllleleeeelllllllllelellellleeeeeeeeelelleeelellleeeeelelllleeeeeeeeeleleel\n",
            "3868/3868 [==============================] - 24s 6ms/step - loss: 1.9866 - accuracy: 0.3826\n",
            "Epoch 23/100\n",
            "3868/3868 [==============================] - ETA: 0s - loss: 1.9842 - accuracy: 0.3827\n",
            "Dante dice: eellll leleleeleelellllelle elllllel lllellleelllllleeeelelelellelleleeeeleellleeeeeleleeeleeelleeee\n",
            "3868/3868 [==============================] - 24s 6ms/step - loss: 1.9842 - accuracy: 0.3827\n",
            "Epoch 24/100\n",
            "3868/3868 [==============================] - ETA: 0s - loss: 1.9821 - accuracy: 0.3838\n",
            "Dante dice: llell lelelllelellellllleellle lelllllleeeelleleleeeleeleleleeeleleeleeeeelleeelleleeeeeelllleelelel\n",
            "3868/3868 [==============================] - 24s 6ms/step - loss: 1.9821 - accuracy: 0.3838\n",
            "Epoch 25/100\n",
            "3861/3868 [============================>.] - ETA: 0s - loss: 1.9795 - accuracy: 0.3841\n",
            "Dante dice: lleeleelllelelellleollleoeeleloeleolllleleellllee eellelleeeleleleeelleeellllelellelleeeelelleeeelll\n",
            "3868/3868 [==============================] - 24s 6ms/step - loss: 1.9796 - accuracy: 0.3840\n",
            "Epoch 26/100\n",
            "3861/3868 [============================>.] - ETA: 0s - loss: 1.9774 - accuracy: 0.3850\n",
            "Dante dice: lelllelellleeeeeeelll eleelle lllllllleellllele eleleeeleleeellllllleeellelleelleeeeeeeelleeeelellle\n",
            "3868/3868 [==============================] - 24s 6ms/step - loss: 1.9775 - accuracy: 0.3850\n",
            "Epoch 27/100\n",
            "3861/3868 [============================>.] - ETA: 0s - loss: 1.9755 - accuracy: 0.3852\n",
            "Dante dice: leleeel ollleelolllleolleleeeeollle oeeoeleelellleelelllelleeelleleeeelleelellllleeelllllllelleleeel\n",
            "3868/3868 [==============================] - 24s 6ms/step - loss: 1.9755 - accuracy: 0.3852\n",
            "Epoch 28/100\n",
            "3860/3868 [============================>.] - ETA: 0s - loss: 1.9733 - accuracy: 0.3859\n",
            "Dante dice: olillelellelolleleoeleeeelloleol oleeeollollel lelleoeeleleeleleelelllelllleelellellelllleeleelelele\n",
            "3868/3868 [==============================] - 24s 6ms/step - loss: 1.9734 - accuracy: 0.3859\n",
            "Epoch 29/100\n",
            "3866/3868 [============================>.] - ETA: 0s - loss: 1.9716 - accuracy: 0.3867\n",
            "Dante dice: loeleolleoloelllloleoeoollol ol olllllelllllleoooeollolloollolloooolollllloolollolloooooloooooolllll\n",
            "3868/3868 [==============================] - 24s 6ms/step - loss: 1.9716 - accuracy: 0.3867\n",
            "Epoch 30/100\n",
            "3868/3868 [==============================] - ETA: 0s - loss: 1.9694 - accuracy: 0.3871\n",
            "Dante dice: lellleloleelloel lloolllleolllllllolleeelllellloololooolololloolloloolloooolloooooooloolllooolooollo\n",
            "3868/3868 [==============================] - 24s 6ms/step - loss: 1.9694 - accuracy: 0.3871\n",
            "Epoch 31/100\n",
            "3866/3868 [============================>.] - ETA: 0s - loss: 1.9676 - accuracy: 0.3872\n",
            "Dante dice: eeelloellellellllleleeellleleellellellleeoellleeolllleelleeleeleeeeelellleeelelleeleeleeelllleeellle\n",
            "3868/3868 [==============================] - 24s 6ms/step - loss: 1.9676 - accuracy: 0.3872\n",
            "Epoch 32/100\n",
            "3861/3868 [============================>.] - ETA: 0s - loss: 1.9660 - accuracy: 0.3880\n",
            "Dante dice: eeeolloelllalelleeoll oeelellllell oleollollllell lllleelleeeeeleellleelllleleeeeleellelleeleeeeleel\n",
            "3868/3868 [==============================] - 24s 6ms/step - loss: 1.9660 - accuracy: 0.3880\n",
            "Epoch 33/100\n",
            "3863/3868 [============================>.] - ETA: 0s - loss: 1.9640 - accuracy: 0.3890\n",
            "Dante dice: lallall olllllleeellaellelllllllll lleolelloell oleeeeeeelleeeeeellleeeleeleeeeeeeeeleelleleelleelle\n",
            "3868/3868 [==============================] - 24s 6ms/step - loss: 1.9641 - accuracy: 0.3890\n",
            "Epoch 34/100\n",
            "3865/3868 [============================>.] - ETA: 0s - loss: 1.9621 - accuracy: 0.3889\n",
            "Dante dice: l oelllelolloelllaaallellellollleaaallllolllolllllolllooololoolloooeeeooloolooloooleeeoooolooolooooo\n",
            "3868/3868 [==============================] - 24s 6ms/step - loss: 1.9621 - accuracy: 0.3889\n",
            "Epoch 35/100\n",
            "3867/3868 [============================>.] - ETA: 0s - loss: 1.9605 - accuracy: 0.3895\n",
            "Dante dice: lll ollllllllaolll lolalol lolellllelalolallilolloooollooooooooelooololoeololololooooloeoloeoooolool\n",
            "3868/3868 [==============================] - 24s 6ms/step - loss: 1.9605 - accuracy: 0.3895\n",
            "Epoch 36/100\n",
            "3865/3868 [============================>.] - ETA: 0s - loss: 1.9590 - accuracy: 0.3901\n",
            "Dante dice: llllallllaalloalllaallollllaoaallloalilllollllllllooooaooooaaoolaoooaaoolooooalaaooolaoooooloooooooo\n",
            "3868/3868 [==============================] - 25s 6ms/step - loss: 1.9591 - accuracy: 0.3901\n",
            "Epoch 37/100\n",
            "3858/3868 [============================>.] - ETA: 0s - loss: 1.9575 - accuracy: 0.3904\n",
            "Dante dice: lliol lllollealoloolllliol al oll oolaaolllllllaaaooololoooloolaolollooooololaolloollloaaloooooooaaa\n",
            "3868/3868 [==============================] - 24s 6ms/step - loss: 1.9574 - accuracy: 0.3905\n",
            "Epoch 38/100\n",
            "3861/3868 [============================>.] - ETA: 0s - loss: 1.9559 - accuracy: 0.3914\n",
            "Dante dice: llallollaeleallolllllllllolelalalllllllllllooeloleooeoolooeloleoolooooooooololoeoeooooooooooolllolol\n",
            "3868/3868 [==============================] - 24s 6ms/step - loss: 1.9560 - accuracy: 0.3914\n",
            "Epoch 39/100\n",
            "3859/3868 [============================>.] - ETA: 0s - loss: 1.9549 - accuracy: 0.3909\n",
            "Dante dice: lolalalloallolllllllleooaealllll oll llololllelalloloeoeooleooloooooooollleleooooollooloololoooloeoo\n",
            "3868/3868 [==============================] - 24s 6ms/step - loss: 1.9548 - accuracy: 0.3909\n",
            "Epoch 40/100\n",
            "3867/3868 [============================>.] - ETA: 0s - loss: 1.9531 - accuracy: 0.3915\n",
            "Dante dice: lollool ololoolollllllleollollllaooolllllllolllalooloollollolollolooooooolloolooooallloooooooloooaol\n",
            "3868/3868 [==============================] - 24s 6ms/step - loss: 1.9531 - accuracy: 0.3915\n",
            "Epoch 41/100\n",
            "3866/3868 [============================>.] - ETA: 0s - loss: 1.9518 - accuracy: 0.3918\n",
            "Dante dice: lllolellaoalollel elooll oleooolleoooelll llelolleooololooeleoloolollolloollolllloollllloooloololool\n",
            "3868/3868 [==============================] - 24s 6ms/step - loss: 1.9518 - accuracy: 0.3918\n",
            "Epoch 42/100\n",
            "3864/3868 [============================>.] - ETA: 0s - loss: 1.9505 - accuracy: 0.3924\n",
            "Dante dice: elllllellllllololllooelolelllllleloeoolleeloleooolloooooloooooololooolllololoooooololllloollolollllo\n",
            "3868/3868 [==============================] - 24s 6ms/step - loss: 1.9505 - accuracy: 0.3924\n",
            "Epoch 43/100\n",
            "3859/3868 [============================>.] - ETA: 0s - loss: 1.9490 - accuracy: 0.3928\n",
            "Dante dice: eoelll lllelolelolooll lololllleollooloolllllololllllooolooolololololloolololoooolloollollooooololoo\n",
            "3868/3868 [==============================] - 26s 7ms/step - loss: 1.9489 - accuracy: 0.3929\n",
            "Epoch 44/100\n",
            "3859/3868 [============================>.] - ETA: 0s - loss: 1.9479 - accuracy: 0.3931\n",
            "Dante dice: oloellleolollloo llllloelloeleooololoelleolololoellollooollolooolllooooolloollollllololloollololollo\n",
            "3868/3868 [==============================] - 25s 7ms/step - loss: 1.9478 - accuracy: 0.3931\n",
            "Epoch 45/100\n",
            "3866/3868 [============================>.] - ETA: 0s - loss: 1.9465 - accuracy: 0.3941\n",
            "Dante dice: lellolllllooeleolaelaaleealolllllllllolalololelalloloolooooolllolloeloeeolleoloooooooooloeolololoeoo\n",
            "3868/3868 [==============================] - 26s 7ms/step - loss: 1.9465 - accuracy: 0.3941\n",
            "Epoch 46/100\n",
            "3865/3868 [============================>.] - ETA: 0s - loss: 1.9450 - accuracy: 0.3942\n",
            "Dante dice: llllllolllallll leeoolleellalllolllolelaalleolllllooooooloooeoooololllloollooeooolooololoeeoollooooo\n",
            "3868/3868 [==============================] - 25s 6ms/step - loss: 1.9450 - accuracy: 0.3942\n",
            "Epoch 47/100\n",
            "3860/3868 [============================>.] - ETA: 0s - loss: 1.9442 - accuracy: 0.3945\n",
            "Dante dice: oeaelollaelllolaolalllllllalaalloolell llleoollllallelolooeloooloeloeoooooooeoeeoolloloolooolllooooe\n",
            "3868/3868 [==============================] - 24s 6ms/step - loss: 1.9443 - accuracy: 0.3945\n",
            "Epoch 48/100\n",
            "3867/3868 [============================>.] - ETA: 0s - loss: 1.9428 - accuracy: 0.3955\n",
            "Dante dice: lol lloolooooolll lollloollllloololeolololloooooolololoollolllllooololooollooooollolollololoollllllo\n",
            "3868/3868 [==============================] - 24s 6ms/step - loss: 1.9428 - accuracy: 0.3955\n",
            "Epoch 49/100\n",
            "3867/3868 [============================>.] - ETA: 0s - loss: 1.9417 - accuracy: 0.3952\n",
            "Dante dice: lllalllalalllaaeaaleol ollllaolllllloeollllleoallaoooeoooeoeoooeeleeollollooooeloooooolllooooolleooe\n",
            "3868/3868 [==============================] - 24s 6ms/step - loss: 1.9417 - accuracy: 0.3952\n",
            "Epoch 50/100\n",
            "3861/3868 [============================>.] - ETA: 0s - loss: 1.9404 - accuracy: 0.3954\n",
            "Dante dice: llolooloolllllllololololollollllollllloloolloloolooolollollooooooolololololooloooolooooololloolollol\n",
            "3868/3868 [==============================] - 24s 6ms/step - loss: 1.9404 - accuracy: 0.3953\n",
            "Epoch 51/100\n",
            "3864/3868 [============================>.] - ETA: 0s - loss: 1.9395 - accuracy: 0.3963\n",
            "Dante dice: ollaolllololllooalllll olollloololllllllal lloollllooalooololooollaooooollolooolloloooooooaoloollooo\n",
            "3868/3868 [==============================] - 24s 6ms/step - loss: 1.9395 - accuracy: 0.3962\n",
            "Epoch 52/100\n",
            "3858/3868 [============================>.] - ETA: 0s - loss: 1.9385 - accuracy: 0.3965\n",
            "Dante dice: llllooolallll olllallallolallalallallllllllool alloooollloaoooolloooaooaooloaooaoaooaoooooooollolaoo\n",
            "3868/3868 [==============================] - 24s 6ms/step - loss: 1.9386 - accuracy: 0.3965\n",
            "Epoch 53/100\n",
            "3859/3868 [============================>.] - ETA: 0s - loss: 1.9375 - accuracy: 0.3963\n",
            "Dante dice: lloollooleaaollllloaolllllllalallllol olalaaollleloolloolloleeloooooleloooooooeoeoooololloeoeelooolo\n",
            "3868/3868 [==============================] - 24s 6ms/step - loss: 1.9374 - accuracy: 0.3963\n",
            "Epoch 54/100\n",
            "3861/3868 [============================>.] - ETA: 0s - loss: 1.9365 - accuracy: 0.3973\n",
            "Dante dice: ollol lelllolllllllllllll olaaloealolllllolllalallloolololooolooooooooooooolloeeolleoloooooloooeoeoo\n",
            "3868/3868 [==============================] - 24s 6ms/step - loss: 1.9364 - accuracy: 0.3973\n",
            "Epoch 55/100\n",
            "3858/3868 [============================>.] - ETA: 0s - loss: 1.9350 - accuracy: 0.3975\n",
            "Dante dice: llllolaallelellaalolleol oolaaelel olllea ealoloeeooooloeeoololooeeoloollollloeelolollooolelleololll\n",
            "3868/3868 [==============================] - 24s 6ms/step - loss: 1.9351 - accuracy: 0.3975\n",
            "Epoch 56/100\n",
            "3859/3868 [============================>.] - ETA: 0s - loss: 1.9347 - accuracy: 0.3975\n",
            "Dante dice: alollllaallallolollll llolalalllalllllaollolollllaaalaaaaaaaaaaalalaaaalaalaaaaaaaaaaaaaalaalalaaaaa\n",
            "3868/3868 [==============================] - 24s 6ms/step - loss: 1.9347 - accuracy: 0.3975\n",
            "Epoch 57/100\n",
            "3862/3868 [============================>.] - ETA: 0s - loss: 1.9336 - accuracy: 0.3978\n",
            "Dante dice: lalllllllaaa llallallllllallllallaalloalllllaollaaaaaaaaaaaaaalaaaaaaaaaaaaaaaaaaaaaaaalaaaaaaalaaaa\n",
            "3868/3868 [==============================] - 24s 6ms/step - loss: 1.9335 - accuracy: 0.3978\n",
            "Epoch 58/100\n",
            "3860/3868 [============================>.] - ETA: 0s - loss: 1.9327 - accuracy: 0.3982\n",
            "Dante dice: aoalallllllllolllaallll lllllleaallollal llolllalealaaaaaaaaaaalaaaaaaaaalaaaaaalaaaalaaaalaalaaaaal\n",
            "3868/3868 [==============================] - 24s 6ms/step - loss: 1.9326 - accuracy: 0.3983\n",
            "Epoch 59/100\n",
            "3864/3868 [============================>.] - ETA: 0s - loss: 1.9316 - accuracy: 0.3983\n",
            "Dante dice: aelllel llllalolllllalaallalell lleaalee llalleolaelaaalalaaaaealaaaaaeaeeaaealaalaaleealllaaeaallae\n",
            "3868/3868 [==============================] - 24s 6ms/step - loss: 1.9317 - accuracy: 0.3983\n",
            "Epoch 60/100\n",
            "3861/3868 [============================>.] - ETA: 0s - loss: 1.9305 - accuracy: 0.3985\n",
            "Dante dice:  eal ollllllllallalllllaallllllllllolaolla elllalalleallaaaaaaaaeaaeaaaaaeeaaaaaaaaaalaelaaellaaaeae\n",
            "3868/3868 [==============================] - 24s 6ms/step - loss: 1.9305 - accuracy: 0.3985\n",
            "Epoch 61/100\n",
            "3868/3868 [==============================] - ETA: 0s - loss: 1.9295 - accuracy: 0.3985\n",
            "Dante dice: alalllllollaalllllllllaaaall olollllaeallal lalaaoaaaaaaaalaaaaaaaaaaaaaaaaaaallalaaaaalaaaaalaaaaal\n",
            "3868/3868 [==============================] - 24s 6ms/step - loss: 1.9295 - accuracy: 0.3985\n",
            "Epoch 62/100\n",
            "3862/3868 [============================>.] - ETA: 0s - loss: 1.9287 - accuracy: 0.3995\n",
            "Dante dice: aalllaaaalalll llaallallllalllllaallallallalaaaaaaaaaaaaaaaaaaaalaaaaaaaaaaaaaaaaaaaaaaaaaaaaaaaaaaa\n",
            "3868/3868 [==============================] - 24s 6ms/step - loss: 1.9286 - accuracy: 0.3995\n",
            "Epoch 63/100\n",
            "3861/3868 [============================>.] - ETA: 0s - loss: 1.9279 - accuracy: 0.3996\n",
            "Dante dice: olallalalllllllolllllolllllllaalalllalaaaolaallaollaaaaaaaaaaaaaalaaaaalaaaaaaaaaaaaaaaaaaalaaaaaala\n",
            "3868/3868 [==============================] - 24s 6ms/step - loss: 1.9279 - accuracy: 0.3996\n",
            "Epoch 64/100\n",
            "3860/3868 [============================>.] - ETA: 0s - loss: 1.9271 - accuracy: 0.3995\n",
            "Dante dice: aaaolllaallllalalllaalollla llllallllllaaaaalaoaaaaaalaaaaaaaaaaaaaaaaaalaaaalaaaaaaaaaaaaaaaaaalaaa\n",
            "3868/3868 [==============================] - 24s 6ms/step - loss: 1.9272 - accuracy: 0.3995\n",
            "Epoch 65/100\n",
            "3860/3868 [============================>.] - ETA: 0s - loss: 1.9261 - accuracy: 0.4002\n",
            "Dante dice: aaallall allaalallllalalllllllllalllllla  llalalllaaaaaaaalaaaaaaaaaaaaaaaaaaaaaaaaaaaaaaallaaaaaaaa\n",
            "3868/3868 [==============================] - 24s 6ms/step - loss: 1.9260 - accuracy: 0.4001\n",
            "Epoch 66/100\n",
            "3862/3868 [============================>.] - ETA: 0s - loss: 1.9252 - accuracy: 0.4003\n",
            "Dante dice: lllaall allllllallllallallaaalllalaallalllaal llllaaaaaaalaaaaaaaaaaaaaaaaaaaaaaaaaaaaaaaaaaaaalaaaa\n",
            "3868/3868 [==============================] - 24s 6ms/step - loss: 1.9253 - accuracy: 0.4003\n",
            "Epoch 67/100\n",
            "3864/3868 [============================>.] - ETA: 0s - loss: 1.9246 - accuracy: 0.4004\n",
            "Dante dice: llllllaa alallalllllallaalalaealalaaalaallalllaallaaaaaaaalaaaaaaaaaaaaaaaaaaaalaaaaaaaaaaaaaaaaaaaa\n",
            "3868/3868 [==============================] - 24s 6ms/step - loss: 1.9246 - accuracy: 0.4004\n",
            "Epoch 68/100\n",
            "3863/3868 [============================>.] - ETA: 0s - loss: 1.9237 - accuracy: 0.4017\n",
            "Dante dice: lllllllallal ll alllallllllalalllllallalalaaallll aaaaaaaaaaaalaalaaaaaaaaaaaaaaaaaaaaaaaaaaaaaaaaal\n",
            "3868/3868 [==============================] - 24s 6ms/step - loss: 1.9237 - accuracy: 0.4016\n",
            "Epoch 69/100\n",
            "3867/3868 [============================>.] - ETA: 0s - loss: 1.9230 - accuracy: 0.4011\n",
            "Dante dice: oallaallllallaaalllaaallaaalao aalloallllalllaaaaalaaaaaaaaaaaaaaaaaaaaaaaaaaaallaaaalaaaaaaaaaaaaaa\n",
            "3868/3868 [==============================] - 24s 6ms/step - loss: 1.9230 - accuracy: 0.4011\n",
            "Epoch 70/100\n",
            "3865/3868 [============================>.] - ETA: 0s - loss: 1.9223 - accuracy: 0.4013\n",
            "Dante dice: aallllllllaaoallllallllallll allalloalllllllllllllaaaaaaaaaaaalaaaaaaaaaaaaaaalaaaaaalaaaaaaaaaaaaaa\n",
            "3868/3868 [==============================] - 24s 6ms/step - loss: 1.9223 - accuracy: 0.4013\n",
            "Epoch 71/100\n",
            "3867/3868 [============================>.] - ETA: 0s - loss: 1.9214 - accuracy: 0.4011\n",
            "Dante dice: lall alallllllllloaoalloaloallollllolalolaallollllaoaaloaoaaaaaaaaaloloaaloaloaalaaaalaoalaooaalaaaa\n",
            "3868/3868 [==============================] - 24s 6ms/step - loss: 1.9214 - accuracy: 0.4011\n",
            "Epoch 72/100\n",
            "3864/3868 [============================>.] - ETA: 0s - loss: 1.9206 - accuracy: 0.4019\n",
            "Dante dice: llaalaaalllaalaalllaaalllal allllalalllaall alllaaaaaaaaaaaaaaaaaaaaaaaaaaaaalaaaaaaaaaaaaaaalaaaaaa\n",
            "3868/3868 [==============================] - 24s 6ms/step - loss: 1.9206 - accuracy: 0.4018\n",
            "Epoch 73/100\n",
            "3858/3868 [============================>.] - ETA: 0s - loss: 1.9202 - accuracy: 0.4017\n",
            "Dante dice: llallllolllllalolllllloolalllll lolal aolllolllllaaaoaaaalaaaaaoalaaaaaallaoaaaaalalaoalolaaalaaaaao\n",
            "3868/3868 [==============================] - 26s 7ms/step - loss: 1.9200 - accuracy: 0.4018\n",
            "Epoch 74/100\n",
            "3860/3868 [============================>.] - ETA: 0s - loss: 1.9197 - accuracy: 0.4013\n",
            "Dante dice: lllallllallallll lalaaaaallla alalalllalllllllllllaaaaaaaaaaaaaaaalaaaaaaaaaaaalaaaaaaaaaaaaaaaaaaaa\n",
            "3868/3868 [==============================] - 26s 7ms/step - loss: 1.9198 - accuracy: 0.4013\n",
            "Epoch 75/100\n",
            "3859/3868 [============================>.] - ETA: 0s - loss: 1.9187 - accuracy: 0.4019\n",
            "Dante dice: l alllaaalaalllllallaalllal llaallllallalalllaalllalaaaaaaaaaaaaaaaaaaaaaaaaalaaaaaaaaaaaaaaaaaaaaaa\n",
            "3868/3868 [==============================] - 25s 7ms/step - loss: 1.9188 - accuracy: 0.4019\n",
            "Epoch 76/100\n",
            "3864/3868 [============================>.] - ETA: 0s - loss: 1.9182 - accuracy: 0.4020\n",
            "Dante dice: l ialllliialalllalallill llalalallilalaallalallllaalaiaaaaaaiaiaaaiaiaaaaalaaiaiaiaaaaiaiiaaiaiaaaai\n",
            "3868/3868 [==============================] - 24s 6ms/step - loss: 1.9181 - accuracy: 0.4020\n",
            "Epoch 77/100\n",
            "3858/3868 [============================>.] - ETA: 0s - loss: 1.9172 - accuracy: 0.4030\n",
            "Dante dice: llallllaallllllalllallllallalaaaaall allaallaallalaaaaaaaaaaaaaaaaaaaaaaaaaaaaaaaaaaaalaaaaaaaaaaaaa\n",
            "3868/3868 [==============================] - 24s 6ms/step - loss: 1.9172 - accuracy: 0.4030\n",
            "Epoch 78/100\n",
            "3861/3868 [============================>.] - ETA: 0s - loss: 1.9167 - accuracy: 0.4026\n",
            "Dante dice: lallallaalaall alaallllaalaallalllaalalalllllaallaaaaaaaaaaaaaaalaaaaaaaaaaaaaaaaaaaaaaaaaaaaaaaaaaa\n",
            "3868/3868 [==============================] - 24s 6ms/step - loss: 1.9167 - accuracy: 0.4025\n",
            "Epoch 79/100\n",
            "3861/3868 [============================>.] - ETA: 0s - loss: 1.9157 - accuracy: 0.4030\n",
            "Dante dice: lllallllallalllllal alalalllllllllaalalalallaalaaaaaaaaaaaaaaaaaaaaaalaaaaaaaaaaaaaaaaaaaaaaaaaaaaaa\n",
            "3868/3868 [==============================] - 24s 6ms/step - loss: 1.9157 - accuracy: 0.4030\n",
            "Epoch 80/100\n",
            "3859/3868 [============================>.] - ETA: 0s - loss: 1.9154 - accuracy: 0.4026\n",
            "Dante dice: a alllallalllaallllaalllaaalalaalllallllallla alllalaaaaaaaaaaaaaaaaaaaaaaaaaaaaaaaaaaaaaaaaaaalaaaa\n",
            "3868/3868 [==============================] - 24s 6ms/step - loss: 1.9155 - accuracy: 0.4025\n",
            "Epoch 81/100\n",
            "3858/3868 [============================>.] - ETA: 0s - loss: 1.9146 - accuracy: 0.4033\n",
            "Dante dice: ll alllalllallllalllllaaalaallaaalllallallllalallaaalaaaaaaaaaaaaaaaaaaaaaaaaaaaaaaaaaaaaaaaaaaaaaaa\n",
            "3868/3868 [==============================] - 24s 6ms/step - loss: 1.9145 - accuracy: 0.4033\n",
            "Epoch 82/100\n",
            "3866/3868 [============================>.] - ETA: 0s - loss: 1.9143 - accuracy: 0.4037\n",
            "Dante dice: lallalll llaallaa alllaalllllaalallal lllll llaallaaaaaaaalaaaaaaaalaaaaaaaaaaaaaaaaaaalaaaaalaaaaaa\n",
            "3868/3868 [==============================] - 24s 6ms/step - loss: 1.9143 - accuracy: 0.4037\n",
            "Epoch 83/100\n",
            "3868/3868 [==============================] - ETA: 0s - loss: 1.9136 - accuracy: 0.4035\n",
            "Dante dice:  llall aalllaaallaaalllllalalllllalaallaa aaaaalallaaaaalaaaaaaaaaaaaaaaaaaaaaaaaaaaaaaaaaalaaaaaaaa\n",
            "3868/3868 [==============================] - 24s 6ms/step - loss: 1.9136 - accuracy: 0.4035\n",
            "Epoch 84/100\n",
            "3866/3868 [============================>.] - ETA: 0s - loss: 1.9132 - accuracy: 0.4042\n",
            "Dante dice: looalo oolalalllollaoollllolaaolool alallaaooo aloalloallllaoaoaaalaaollaaaalaoolallaloaoaaoolllloal\n",
            "3868/3868 [==============================] - 24s 6ms/step - loss: 1.9132 - accuracy: 0.4042\n",
            "Epoch 85/100\n",
            "3859/3868 [============================>.] - ETA: 0s - loss: 1.9123 - accuracy: 0.4044\n",
            "Dante dice: lallllllllallalallllllalalalalaaallllaaaaalaaaalaaaaaaaaaaaaaaaaaaaaaaaaaaaaaaaaaaaaaaaaaaaaaaaaaaaa\n",
            "3868/3868 [==============================] - 24s 6ms/step - loss: 1.9123 - accuracy: 0.4044\n",
            "Epoch 86/100\n",
            "3862/3868 [============================>.] - ETA: 0s - loss: 1.9117 - accuracy: 0.4042\n",
            "Dante dice: llallallllalllllall aaal aalaaaalalllalllllallaallaaaaaaaaaaaaaaaaaaalaaaalaaaaaaaaaaaaaaaaaaaaaaaaa\n",
            "3868/3868 [==============================] - 24s 6ms/step - loss: 1.9117 - accuracy: 0.4042\n",
            "Epoch 87/100\n",
            "3864/3868 [============================>.] - ETA: 0s - loss: 1.9114 - accuracy: 0.4040\n",
            "Dante dice: laalllalllaaalllaaaalllalaa alllaalla llaala llallaaaaaaaaaaaaaaaaaaaaaaaaaaalaaaaaaaaalaaaaaalaaaaa\n",
            "3868/3868 [==============================] - 24s 6ms/step - loss: 1.9114 - accuracy: 0.4040\n",
            "Epoch 88/100\n",
            "3860/3868 [============================>.] - ETA: 0s - loss: 1.9105 - accuracy: 0.4049\n",
            "Dante dice: lllllal aalaaalallllaaolalallllllalllalllllllllallaaaaaaalaaaaaaaaaaaaaalaaaaaaaaaaaaaaaaaaaaaaaaaaa\n",
            "3868/3868 [==============================] - 24s 6ms/step - loss: 1.9105 - accuracy: 0.4048\n",
            "Epoch 89/100\n",
            "3868/3868 [==============================] - ETA: 0s - loss: 1.9101 - accuracy: 0.4049\n",
            "Dante dice: aalalaalllalllll llllllllalalaalllaallaaal llallaaaaaaaaaaaaaaaaaalaaaaaaaaaaaaaaaaaaaaaaaaalaaaaaaa\n",
            "3868/3868 [==============================] - 24s 6ms/step - loss: 1.9101 - accuracy: 0.4049\n",
            "Epoch 90/100\n",
            "3863/3868 [============================>.] - ETA: 0s - loss: 1.9094 - accuracy: 0.4042\n",
            "Dante dice: alalaallalllallaa llalllallalaal allalllllllaalallaaaaaaaaaaaaaaaaalaaaaaaaaaaaaaalaaaaaaaaaaaaaaaaa\n",
            "3868/3868 [==============================] - 24s 6ms/step - loss: 1.9094 - accuracy: 0.4042\n",
            "Epoch 91/100\n",
            "3868/3868 [==============================] - ETA: 0s - loss: 1.9092 - accuracy: 0.4052\n",
            "Dante dice: alllllalaa llallllalllllal llaalaall llalalllal llaaaaaaaaaalaaaaaaaaaaaaaaalaaaaaaaaalaaaaaaaaaalaa\n",
            "3868/3868 [==============================] - 24s 6ms/step - loss: 1.9092 - accuracy: 0.4052\n",
            "Epoch 92/100\n",
            "3860/3868 [============================>.] - ETA: 0s - loss: 1.9085 - accuracy: 0.4056\n",
            "Dante dice: lal laaalllllllllllllaaalallalaaaaal llaallalaallaaaalaaaaaaaaaaaaaaaaaaaaaaaaaaaaaaaalaaaaaaaaaaaaa\n",
            "3868/3868 [==============================] - 25s 6ms/step - loss: 1.9084 - accuracy: 0.4056\n",
            "Epoch 93/100\n",
            "3864/3868 [============================>.] - ETA: 0s - loss: 1.9077 - accuracy: 0.4054\n",
            "Dante dice: ooaloalolalllllaaalllo llolollollaollllolooaaaalllllaalaalaaaaaaaaaaaaallaalalaalaaalaaaalallaaaaaaa\n",
            "3868/3868 [==============================] - 24s 6ms/step - loss: 1.9077 - accuracy: 0.4054\n",
            "Epoch 94/100\n",
            "3868/3868 [==============================] - ETA: 0s - loss: 1.9075 - accuracy: 0.4052\n",
            "Dante dice: llaallllaalolollalloalllollalllllallllaaal lalllaoaaaaaaaaaaalalaaaaalaaaalaaaaaaaaaaaaaaaaalaaaaaal\n",
            "3868/3868 [==============================] - 24s 6ms/step - loss: 1.9075 - accuracy: 0.4052\n",
            "Epoch 95/100\n",
            "3863/3868 [============================>.] - ETA: 0s - loss: 1.9070 - accuracy: 0.4058\n",
            "Dante dice: oalaallaolaolalllallllallllollallaolallallllolllallaaaaaaalaalaaaaaaaaaaaaaaalaaaaaalaaaaaaaaalaaaaa\n",
            "3868/3868 [==============================] - 24s 6ms/step - loss: 1.9070 - accuracy: 0.4058\n",
            "Epoch 96/100\n",
            "3859/3868 [============================>.] - ETA: 0s - loss: 1.9064 - accuracy: 0.4060\n",
            "Dante dice: all lalallll lllalllaalaalalallalaal alaallllllllaaaalaaaaaaaalaaaaaaaaaaaaaaaaaaaaaaalaaaaaaaaaaaaa\n",
            "3868/3868 [==============================] - 24s 6ms/step - loss: 1.9064 - accuracy: 0.4060\n",
            "Epoch 97/100\n",
            "3862/3868 [============================>.] - ETA: 0s - loss: 1.9061 - accuracy: 0.4055\n",
            "Dante dice: lallalaaaaaalaallalllaaallllllaaalalalaaall llaalaaaaaaaaaaaaaaaaaaaaaaaaaaaaaaaaaaaaaaaaaaaalaaaaaa\n",
            "3868/3868 [==============================] - 24s 6ms/step - loss: 1.9061 - accuracy: 0.4055\n",
            "Epoch 98/100\n",
            "3862/3868 [============================>.] - ETA: 0s - loss: 1.9055 - accuracy: 0.4064\n",
            "Dante dice: allllllalllalaal llaalaaaaallaaallaalallll alllalaaaaaaaaaaaaaaaaalaaaaaaaaaaaaaaaaaaaaaaaaalaaaaaaa\n",
            "3868/3868 [==============================] - 24s 6ms/step - loss: 1.9055 - accuracy: 0.4064\n",
            "Epoch 99/100\n",
            "3863/3868 [============================>.] - ETA: 0s - loss: 1.9053 - accuracy: 0.4061\n",
            "Dante dice: illlllllaallalalalllaallaaalaalllalalalalallllllaaaaaaaaaaaaaaaaaaaaaaaaaaaaaaaaaaaaaaaaaaaaaaaaaaaa\n",
            "3868/3868 [==============================] - 24s 6ms/step - loss: 1.9052 - accuracy: 0.4061\n",
            "Epoch 100/100\n",
            "3867/3868 [============================>.] - ETA: 0s - loss: 1.9045 - accuracy: 0.4069\n",
            "Dante dice: allallalaalalaaalllllalllallaalalllalaallall alaaaaaaaaaaaaaaaaaaaaaaaaaaaaaaaaaaaaaaaaaaaaaaalaaaaa\n",
            "3868/3868 [==============================] - 24s 6ms/step - loss: 1.9045 - accuracy: 0.4069\n"
          ]
        },
        {
          "data": {
            "text/plain": [
              "<keras.callbacks.History at 0x7f7d2c46d150>"
            ]
          },
          "execution_count": 92,
          "metadata": {},
          "output_type": "execute_result"
        }
      ],
      "source": [
        "epoch_callback = LambdaCallback(on_epoch_end=generate_on_epoch)\n",
        "model.fit(X, y, batch_size=128, epochs=100, callbacks=[epoch_callback])"
      ]
    },
    {
      "cell_type": "code",
      "execution_count": null,
      "metadata": {
        "id": "vGaheoUFCIFg"
      },
      "outputs": [],
      "source": []
    }
  ],
  "metadata": {
    "accelerator": "GPU",
    "colab": {
      "machine_shape": "hm",
      "provenance": [],
      "authorship_tag": "ABX9TyMzLz2udHYqj2lnzx+7WVpB",
      "include_colab_link": true
    },
    "gpuClass": "standard",
    "kernelspec": {
      "display_name": "Python 3",
      "name": "python3"
    },
    "language_info": {
      "name": "python"
    }
  },
  "nbformat": 4,
  "nbformat_minor": 0
}